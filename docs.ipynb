{
 "cells": [
  {
   "cell_type": "code",
   "execution_count": 1,
   "id": "2554d446",
   "metadata": {},
   "outputs": [],
   "source": [
    "import tools\n",
    "\n",
    "import Bio\n",
    "from Bio.PDB import PDBParser\n",
    "from Bio.PDB.Chain import Chain\n",
    "\n",
    "import py3Dmol\n",
    "\n",
    "import warnings\n",
    "\n",
    "from typing import List"
   ]
  },
  {
   "cell_type": "code",
   "execution_count": 2,
   "id": "58711014",
   "metadata": {},
   "outputs": [
    {
     "data": {
      "text/plain": [
       "<Structure id=9fg1>"
      ]
     },
     "execution_count": 2,
     "metadata": {},
     "output_type": "execute_result"
    }
   ],
   "source": [
    "# Load example, seeing interactions between A & B chain\n",
    "warnings.filterwarnings(\"ignore\", category=Bio.PDB.PDBExceptions.PDBConstructionWarning)\n",
    "\n",
    "parser = PDBParser()\n",
    "structure = parser.get_structure(\"9fg1\", \"9fg1.pdb\")\n",
    "\n",
    "structure"
   ]
  },
  {
   "cell_type": "code",
   "execution_count": 3,
   "id": "98548ec4",
   "metadata": {},
   "outputs": [],
   "source": [
    "# Get A & B chains\n",
    "A: Chain = structure[0]['A']\n",
    "B: Chain = structure[0]['B']"
   ]
  },
  {
   "cell_type": "code",
   "execution_count": null,
   "id": "3cc0ccc6",
   "metadata": {},
   "outputs": [],
   "source": [
    "# View A & B chains\n",
    "with open('9fg1.pdb', 'r') as protien:\n",
    "\n",
    "  pdb_text = protien.read()\n",
    "\n",
    "view = py3Dmol.view(width=800, height=800)\n",
    "\n",
    "view.addModel(pdb_text)\n",
    "\n",
    "view.setStyle({'cartoon': {'color': 'black'}})\n",
    "view.setStyle({'chain': 'A'}, {'cartoon': {'color': 'red'}})\n",
    "view.setStyle({'chain': 'B'}, {'cartoon': {'color': 'blue'}})\n",
    "\n",
    "view.zoomTo()\n",
    "view.show()"
   ]
  },
  {
   "cell_type": "code",
   "execution_count": 16,
   "id": "42212531",
   "metadata": {},
   "outputs": [],
   "source": [
    "# Get interacting residues\n",
    "# pseudonyms ribd, by_residue_distance, residue_interaction_by_distance\n",
    "interacting_residues: List[tools.distance.InteractingResidue] = tools.by_residue_distance(A, B, 10.0)"
   ]
  },
  {
   "cell_type": "code",
   "execution_count": 17,
   "id": "b3b836d7",
   "metadata": {},
   "outputs": [],
   "source": [
    "# Return class structure for refrence\n",
    "class Interaction:\n",
    "\n",
    "  id: str\n",
    "  distance: float\n",
    "  \n",
    "class InteractingResidue:\n",
    "\n",
    "  chain: str\n",
    "  position: int # in chain\n",
    "\n",
    "  # to keep track of interactions\n",
    "  id: str\n",
    "\n",
    "  interactions: List[Interaction]"
   ]
  },
  {
   "cell_type": "code",
   "execution_count": null,
   "id": "b347c412",
   "metadata": {},
   "outputs": [],
   "source": [
    "# Show interacting residues\n",
    "\n",
    "# view from before\n",
    "for residue in interacting_residues:\n",
    "\n",
    "    view.setStyle(\n",
    "        {'chain': residue.chain, 'resi': residue.position},\n",
    "        {'cartoon': {'color': 'yellow'}}\n",
    "    )\n",
    "\n",
    "view.zoomTo()\n",
    "view.show()"
   ]
  }
 ],
 "metadata": {
  "kernelspec": {
   "display_name": ".venv",
   "language": "python",
   "name": "python3"
  },
  "language_info": {
   "codemirror_mode": {
    "name": "ipython",
    "version": 3
   },
   "file_extension": ".py",
   "mimetype": "text/x-python",
   "name": "python",
   "nbconvert_exporter": "python",
   "pygments_lexer": "ipython3",
   "version": "3.12.1"
  }
 },
 "nbformat": 4,
 "nbformat_minor": 5
}
