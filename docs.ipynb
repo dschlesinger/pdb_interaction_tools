{
 "cells": [
  {
   "cell_type": "code",
   "execution_count": 1,
   "id": "2554d446",
   "metadata": {},
   "outputs": [],
   "source": [
    "import tools\n",
    "\n",
    "import Bio\n",
    "from Bio.PDB import PDBParser\n",
    "from Bio.PDB.Chain import Chain\n",
    "\n",
    "import py3Dmol\n",
    "\n",
    "import warnings\n",
    "\n",
    "from typing import List\n",
    "\n",
    "import json"
   ]
  },
  {
   "cell_type": "code",
   "execution_count": 2,
   "id": "58711014",
   "metadata": {},
   "outputs": [
    {
     "data": {
      "text/plain": [
       "<Structure id=9fg1>"
      ]
     },
     "execution_count": 2,
     "metadata": {},
     "output_type": "execute_result"
    }
   ],
   "source": [
    "# Load example, seeing interactions between A & B chain\n",
    "warnings.filterwarnings(\"ignore\", category=Bio.PDB.PDBExceptions.PDBConstructionWarning)\n",
    "\n",
    "parser = PDBParser()\n",
    "structure = parser.get_structure(\"9fg1\", \"9fg1.pdb\")\n",
    "\n",
    "structure"
   ]
  },
  {
   "cell_type": "code",
   "execution_count": 3,
   "id": "98548ec4",
   "metadata": {},
   "outputs": [],
   "source": [
    "# Get A & B chains\n",
    "A: Chain = structure[0]['A']\n",
    "B: Chain = structure[0]['B']"
   ]
  },
  {
   "cell_type": "code",
   "execution_count": null,
   "id": "3cc0ccc6",
   "metadata": {},
   "outputs": [],
   "source": [
    "# View A & B chains\n",
    "with open('9fg1.pdb', 'r') as protien:\n",
    "\n",
    "  pdb_text = protien.read()\n",
    "\n",
    "view = py3Dmol.view(width=800, height=800)\n",
    "\n",
    "view.addModel(pdb_text)\n",
    "\n",
    "view.setStyle({'cartoon': {'color': 'black'}})\n",
    "view.setStyle({'chain': 'A'}, {'cartoon': {'color': 'red'}})\n",
    "view.setStyle({'chain': 'B'}, {'cartoon': {'color': 'blue'}})\n",
    "\n",
    "view.zoomTo()\n",
    "view.show()"
   ]
  },
  {
   "cell_type": "code",
   "execution_count": 4,
   "id": "42212531",
   "metadata": {},
   "outputs": [],
   "source": [
    "# Get interacting residues\n",
    "# pseudonyms ribd, by_residue_distance, residue_interaction_by_distance\n",
    "interacting_residues: List[tools.distance.InteractingResidue] = tools.by_residue_distance(A, B, 10.0)"
   ]
  },
  {
   "cell_type": "code",
   "execution_count": null,
   "id": "b3b836d7",
   "metadata": {},
   "outputs": [],
   "source": [
    "# Return class structure for refrence\n",
    "class Interaction:\n",
    "\n",
    "  id: str\n",
    "  distance: float\n",
    "  \n",
    "class InteractingResidue:\n",
    "\n",
    "  chain: str\n",
    "  position: int # in chain\n",
    "\n",
    "  residue: str # three letter format\n",
    "\n",
    "  # to keep track of interactions\n",
    "  id: str\n",
    "\n",
    "  interactions: List[Interaction]"
   ]
  },
  {
   "cell_type": "code",
   "execution_count": 6,
   "id": "b347c412",
   "metadata": {},
   "outputs": [
    {
     "ename": "NameError",
     "evalue": "name 'view' is not defined",
     "output_type": "error",
     "traceback": [
      "\u001b[31m---------------------------------------------------------------------------\u001b[39m",
      "\u001b[31mNameError\u001b[39m                                 Traceback (most recent call last)",
      "\u001b[36mCell\u001b[39m\u001b[36m \u001b[39m\u001b[32mIn[6]\u001b[39m\u001b[32m, line 6\u001b[39m\n\u001b[32m      1\u001b[39m \u001b[38;5;66;03m# Show interacting residues\u001b[39;00m\n\u001b[32m      2\u001b[39m \n\u001b[32m      3\u001b[39m \u001b[38;5;66;03m# view from before\u001b[39;00m\n\u001b[32m      4\u001b[39m \u001b[38;5;28;01mfor\u001b[39;00m residue \u001b[38;5;129;01min\u001b[39;00m interacting_residues:\n\u001b[32m----> \u001b[39m\u001b[32m6\u001b[39m     \u001b[43mview\u001b[49m.setStyle(\n\u001b[32m      7\u001b[39m         {\u001b[33m'\u001b[39m\u001b[33mchain\u001b[39m\u001b[33m'\u001b[39m: residue.chain, \u001b[33m'\u001b[39m\u001b[33mresi\u001b[39m\u001b[33m'\u001b[39m: residue.position},\n\u001b[32m      8\u001b[39m         {\u001b[33m'\u001b[39m\u001b[33mcartoon\u001b[39m\u001b[33m'\u001b[39m: {\u001b[33m'\u001b[39m\u001b[33mcolor\u001b[39m\u001b[33m'\u001b[39m: \u001b[33m'\u001b[39m\u001b[33myellow\u001b[39m\u001b[33m'\u001b[39m}}\n\u001b[32m      9\u001b[39m     )\n\u001b[32m     11\u001b[39m view.zoomTo()\n\u001b[32m     12\u001b[39m view.show()\n",
      "\u001b[31mNameError\u001b[39m: name 'view' is not defined"
     ]
    }
   ],
   "source": [
    "# Show interacting residues\n",
    "\n",
    "# view from before\n",
    "for residue in interacting_residues:\n",
    "\n",
    "    view.setStyle(\n",
    "        {'chain': residue.chain, 'resi': residue.position},\n",
    "        {'cartoon': {'color': 'yellow'}}\n",
    "    )\n",
    "\n",
    "view.zoomTo()\n",
    "view.show()"
   ]
  },
  {
   "cell_type": "code",
   "execution_count": 5,
   "id": "bec38bc2",
   "metadata": {},
   "outputs": [
    {
     "name": "stdout",
     "output_type": "stream",
     "text": [
      "InteractingResidue(chain='B', position=30, residue='ASP', id='B:30', interactions=[Interaction(id='A:11', distance=7.791790008544922), Interaction(id='A:12', distance=7.651941299438477)])\n"
     ]
    }
   ],
   "source": [
    "# Get InteractingResidue from id\n",
    "aa = interacting_residues[0]\n",
    "\n",
    "print(tools.residue_by_id(interacting_residues, aa.interactions[0].id))"
   ]
  },
  {
   "cell_type": "code",
   "execution_count": null,
   "id": "a0a33c94",
   "metadata": {},
   "outputs": [],
   "source": [
    "# To json\n",
    "with open('9fg1.test.json', 'w') as save_file:\n",
    "\n",
    "    json_data = [i.to_json() for i in interacting_residues]\n",
    "\n",
    "    json.dump(json_data, save_file)"
   ]
  },
  {
   "cell_type": "code",
   "execution_count": null,
   "id": "b37a2c9f",
   "metadata": {},
   "outputs": [],
   "source": [
    "# From json\n",
    "with open('9fg1.test.json', 'r') as save_file:\n",
    "\n",
    "    json_data = json.load(save_file)\n",
    "\n",
    "    jl = tools.distance.InteractingResidue.from_json\n",
    "\n",
    "    data = [jl(r) for r in json_data]\n",
    "\n",
    "data"
   ]
  }
 ],
 "metadata": {
  "kernelspec": {
   "display_name": "Python 3",
   "language": "python",
   "name": "python3"
  },
  "language_info": {
   "codemirror_mode": {
    "name": "ipython",
    "version": 3
   },
   "file_extension": ".py",
   "mimetype": "text/x-python",
   "name": "python",
   "nbconvert_exporter": "python",
   "pygments_lexer": "ipython3",
   "version": "3.12.1"
  }
 },
 "nbformat": 4,
 "nbformat_minor": 5
}
